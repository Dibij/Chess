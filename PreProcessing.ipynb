{
 "cells": [
  {
   "cell_type": "code",
   "execution_count": 18,
   "metadata": {},
   "outputs": [],
   "source": [
    "import pandas as pd\n",
    "from scipy import stats\n",
    "import seaborn as sns\n",
    "import matplotlib.pyplot as plt\n",
    "from scipy.stats import mstats,skew, kurtosis\n",
    "from sklearn.preprocessing import LabelEncoder\n"
   ]
  },
  {
   "cell_type": "code",
   "execution_count": 19,
   "metadata": {},
   "outputs": [],
   "source": [
    "data_df = pd.read_csv('games.csv', index_col= False)"
   ]
  },
  {
   "cell_type": "code",
   "execution_count": 20,
   "metadata": {},
   "outputs": [],
   "source": [
    "data_df.columns = [\n",
    "    'Game_ID',                # id\n",
    "    'Rated_(T/F)',             # rated\n",
    "    'Start_Time',              # created_at\n",
    "    'End_Time',                # last_move_at\n",
    "    'Number_of_Turns',         # turns\n",
    "    'Game_Status',             # victory_status\n",
    "    'Winner',                  # winner\n",
    "    'Time_Increment',          # increment_code\n",
    "    'White_Player-ID',         # white_id\n",
    "    'White_Player_Rating',     # white_rating\n",
    "    'Black_Player_ID',         # black_id\n",
    "    'Black_Player_Rating',     # black_rating\n",
    "    'All_Moves_in_Standard_Chess_Notation',  # moves\n",
    "    'Opening_Eco',  # opening_eco\n",
    "    'Opening_Name',            # opening_name\n",
    "    'Opening_Ply'  # opening_ply\n",
    "]"
   ]
  },
  {
   "cell_type": "code",
   "execution_count": 21,
   "metadata": {},
   "outputs": [
    {
     "data": {
      "text/plain": [
       "(20058, 16)"
      ]
     },
     "execution_count": 21,
     "metadata": {},
     "output_type": "execute_result"
    }
   ],
   "source": [
    "data_df.shape"
   ]
  },
  {
   "cell_type": "code",
   "execution_count": 22,
   "metadata": {},
   "outputs": [
    {
     "name": "stdout",
     "output_type": "stream",
     "text": [
      "<class 'pandas.core.frame.DataFrame'>\n",
      "RangeIndex: 20058 entries, 0 to 20057\n",
      "Data columns (total 16 columns):\n",
      " #   Column                                Non-Null Count  Dtype  \n",
      "---  ------                                --------------  -----  \n",
      " 0   Game_ID                               20058 non-null  object \n",
      " 1   Rated_(T/F)                           20058 non-null  bool   \n",
      " 2   Start_Time                            20058 non-null  float64\n",
      " 3   End_Time                              20058 non-null  float64\n",
      " 4   Number_of_Turns                       20058 non-null  int64  \n",
      " 5   Game_Status                           20058 non-null  object \n",
      " 6   Winner                                20058 non-null  object \n",
      " 7   Time_Increment                        20058 non-null  object \n",
      " 8   White_Player-ID                       20058 non-null  object \n",
      " 9   White_Player_Rating                   20058 non-null  int64  \n",
      " 10  Black_Player_ID                       20058 non-null  object \n",
      " 11  Black_Player_Rating                   20058 non-null  int64  \n",
      " 12  All_Moves_in_Standard_Chess_Notation  20058 non-null  object \n",
      " 13  Opening_Eco                           20058 non-null  object \n",
      " 14  Opening_Name                          20058 non-null  object \n",
      " 15  Opening_Ply                           20058 non-null  int64  \n",
      "dtypes: bool(1), float64(2), int64(4), object(9)\n",
      "memory usage: 2.3+ MB\n"
     ]
    }
   ],
   "source": [
    "data_df.info()"
   ]
  },
  {
   "cell_type": "code",
   "execution_count": 23,
   "metadata": {},
   "outputs": [
    {
     "data": {
      "text/plain": [
       "Game_ID                                 0\n",
       "Rated_(T/F)                             0\n",
       "Start_Time                              0\n",
       "End_Time                                0\n",
       "Number_of_Turns                         0\n",
       "Game_Status                             0\n",
       "Winner                                  0\n",
       "Time_Increment                          0\n",
       "White_Player-ID                         0\n",
       "White_Player_Rating                     0\n",
       "Black_Player_ID                         0\n",
       "Black_Player_Rating                     0\n",
       "All_Moves_in_Standard_Chess_Notation    0\n",
       "Opening_Eco                             0\n",
       "Opening_Name                            0\n",
       "Opening_Ply                             0\n",
       "dtype: int64"
      ]
     },
     "execution_count": 23,
     "metadata": {},
     "output_type": "execute_result"
    }
   ],
   "source": [
    "data_df.isnull().sum()"
   ]
  },
  {
   "cell_type": "code",
   "execution_count": 24,
   "metadata": {},
   "outputs": [
    {
     "name": "stdout",
     "output_type": "stream",
     "text": [
      "Game_ID                                  0\n",
      "Rated_(T/F)                              0\n",
      "Start_Time                               0\n",
      "End_Time                                 0\n",
      "Number_of_Turns                         31\n",
      "Game_Status                              0\n",
      "Winner                                   0\n",
      "Time_Increment                           0\n",
      "White_Player-ID                          0\n",
      "White_Player_Rating                      0\n",
      "Black_Player_ID                          0\n",
      "Black_Player_Rating                      0\n",
      "All_Moves_in_Standard_Chess_Notation     0\n",
      "Opening_Eco                              0\n",
      "Opening_Name                             0\n",
      "Opening_Ply                              0\n",
      "dtype: int64\n"
     ]
    }
   ],
   "source": [
    "outliers = pd.DataFrame(columns=data_df.columns)\n",
    "\n",
    "for column in data_df.select_dtypes(include=[float, int]).columns:\n",
    "    z_scores = stats.zscore(data_df[column])\n",
    "    # Store outliers based on z-score threshold\n",
    "    outliers[column] = data_df[column][(z_scores > 4) | (z_scores < -4)]\n",
    "\n",
    "outlier_counts = outliers.notnull().sum()\n",
    "print(outlier_counts)\n"
   ]
  },
  {
   "cell_type": "code",
   "execution_count": 25,
   "metadata": {},
   "outputs": [
    {
     "data": {
      "image/png": "[encoded data removed]",
      "text/plain": [
       "<Figure size 640x480 with 1 Axes>"
      ]
     },
     "metadata": {},
     "output_type": "display_data"
    }
   ],
   "source": [
    "data_df['Number_of_Turns'].hist(bins=30, edgecolor='black')\n",
    "plt.title('Distribution of Number of Turns')\n",
    "plt.xlabel('Number of Turns')\n",
    "plt.ylabel('Frequency')\n",
    "plt.show()"
   ]
  },
  {
   "cell_type": "code",
   "execution_count": 26,
   "metadata": {},
   "outputs": [
    {
     "data": {
      "image/png": "[encoded data removed]",
      "text/plain": [
       "<Figure size 640x480 with 1 Axes>"
      ]
     },
     "metadata": {},
     "output_type": "display_data"
    }
   ],
   "source": [
    "sns.kdeplot(data_df['Number_of_Turns'], fill=True)\n",
    "plt.title('KDE of Number of Turns')\n",
    "plt.show()"
   ]
  },
  {
   "cell_type": "code",
   "execution_count": 27,
   "metadata": {},
   "outputs": [
    {
     "name": "stdout",
     "output_type": "stream",
     "text": [
      "Skewness: 0.89721666835643\n",
      "Kurtosis: 1.3845162919776515\n"
     ]
    }
   ],
   "source": [
    "\n",
    "\n",
    "skewness = skew(data_df['Number_of_Turns'])\n",
    "kurt = kurtosis(data_df['Number_of_Turns'])\n",
    "\n",
    "print('Skewness:', skewness)\n",
    "print('Kurtosis:', kurt)"
   ]
  },
  {
   "cell_type": "code",
   "execution_count": 28,
   "metadata": {},
   "outputs": [],
   "source": [
    "data_df['Number_of_Turns'] = mstats.winsorize(data_df['Number_of_Turns'], limits=[0.05, 0.05])\n",
    "\n"
   ]
  },
  {
   "cell_type": "code",
   "execution_count": 29,
   "metadata": {},
   "outputs": [
    {
     "name": "stdout",
     "output_type": "stream",
     "text": [
      "Game_ID                                 0\n",
      "Rated_(T/F)                             0\n",
      "Start_Time                              0\n",
      "End_Time                                0\n",
      "Number_of_Turns                         0\n",
      "Game_Status                             0\n",
      "Winner                                  0\n",
      "Time_Increment                          0\n",
      "White_Player-ID                         0\n",
      "White_Player_Rating                     0\n",
      "Black_Player_ID                         0\n",
      "Black_Player_Rating                     0\n",
      "All_Moves_in_Standard_Chess_Notation    0\n",
      "Opening_Eco                             0\n",
      "Opening_Name                            0\n",
      "Opening_Ply                             0\n",
      "dtype: int64\n"
     ]
    }
   ],
   "source": [
    "# Show Ouliers again.\n",
    "utliers = pd.DataFrame(columns=data_df.columns)\n",
    "\n",
    "for column in data_df.select_dtypes(include=[float, int]).columns:\n",
    "    z_scores = stats.zscore(data_df[column])\n",
    "    # Store outliers based on z-score threshold\n",
    "    outliers[column] = data_df[column][(z_scores > 4) | (z_scores < -4)]\n",
    "\n",
    "outlier_counts = outliers.notnull().sum()\n",
    "print(outlier_counts)"
   ]
  },
  {
   "cell_type": "code",
   "execution_count": 30,
   "metadata": {},
   "outputs": [
    {
     "name": "stdout",
     "output_type": "stream",
     "text": [
      "                   Start_Time                End_Time  Game_Duration\n",
      "0     2017-08-31 20:06:40.000 2017-08-31 20:06:40.000          1.000\n",
      "1     2017-08-30 21:53:20.000 2017-08-30 21:53:20.000          1.000\n",
      "2     2017-08-30 21:53:20.000 2017-08-30 21:53:20.000          1.000\n",
      "3     2017-08-30 16:20:00.000 2017-08-30 16:20:00.000          1.000\n",
      "4     2017-08-29 18:06:40.000 2017-08-29 18:06:40.000          1.000\n",
      "...                       ...                     ...            ...\n",
      "20053 2017-07-11 16:35:14.342 2017-07-11 16:40:36.076        321.734\n",
      "20054 2017-07-10 14:48:09.760 2017-07-10 15:00:33.979        744.219\n",
      "20055 2017-07-10 14:44:37.493 2017-07-10 14:47:30.327        172.834\n",
      "20056 2017-07-10 14:15:27.019 2017-07-10 14:31:13.718        946.699\n",
      "20057 2017-07-09 23:32:32.649 2017-07-09 23:44:49.348        736.699\n",
      "\n",
      "[20058 rows x 3 columns]\n"
     ]
    }
   ],
   "source": [
    "\n",
    "data_df['Start_Time'] = pd.to_datetime(data_df['Start_Time'], unit='ms')\n",
    "data_df['End_Time'] = pd.to_datetime(data_df['End_Time'], unit='ms')\n",
    "\n",
    "# Step 4: Handle missing data - fill NaN with a default date (or drop rows if preferred)\n",
    "data_df['Start_Time'] = data_df['Start_Time'].fillna(pd.Timestamp('1970-01-01'))\n",
    "data_df['End_Time'] = data_df['End_Time'].fillna(pd.Timestamp('1970-01-01'))\n",
    "\n",
    "\n",
    "\n",
    "# Step 5: Calculate the game duration in seconds (difference between End and Start Time)\n",
    "data_df['Game_Duration'] = (data_df['End_Time'] - data_df['Start_Time']).dt.total_seconds()\n",
    "\n",
    "# Step 6: Handle rows where Start_Time == End_Time, replacing with a reasonable duration (e.g., 1 second)\n",
    "data_df.loc[data_df['Start_Time'] == data_df['End_Time'], 'Game_Duration'] = 1\n",
    "\n",
    "# Check the result (first few rows)\n",
    "print(data_df[['Start_Time', 'End_Time', 'Game_Duration']])\n",
    "\n"
   ]
  },
  {
   "cell_type": "code",
   "execution_count": 31,
   "metadata": {},
   "outputs": [
    {
     "data": {
      "text/plain": [
       "Index(['Game_ID', 'Rated_(T/F)', 'Start_Time', 'End_Time', 'Number_of_Turns',\n",
       "       'Game_Status', 'Winner', 'Time_Increment', 'White_Player-ID',\n",
       "       'White_Player_Rating', 'Black_Player_ID', 'Black_Player_Rating',\n",
       "       'All_Moves_in_Standard_Chess_Notation', 'Opening_Eco', 'Opening_Name',\n",
       "       'Opening_Ply', 'Game_Duration'],\n",
       "      dtype='object')"
      ]
     },
     "execution_count": 31,
     "metadata": {},
     "output_type": "execute_result"
    }
   ],
   "source": [
    "data_df.columns"
   ]
  },
  {
   "cell_type": "code",
   "execution_count": 32,
   "metadata": {},
   "outputs": [
    {
     "name": "stdout",
     "output_type": "stream",
     "text": [
      "Index(['Game_ID', 'Rated_(T/F)', 'Start_Time', 'End_Time', 'Number_of_Turns',\n",
      "       'Game_Status', 'Winner', 'Time_Increment', 'White_Player-ID',\n",
      "       'White_Player_Rating', 'Black_Player_ID', 'Black_Player_Rating',\n",
      "       'All_Moves_in_Standard_Chess_Notation', 'Opening_Eco', 'Opening_Name',\n",
      "       'Opening_Ply', 'Game_Duration'],\n",
      "      dtype='object')\n"
     ]
    }
   ],
   "source": [
    "# Define nominal columns, including 'Game_ID' to encode but keep the original columns.\n",
    "nominal_columns = [\n",
    "    'Opening_Eco', 'Opening_Name', 'All_Moves_in_Standard_Chess_Notation',\n",
    "    'Black_Player_ID', 'White_Player-ID', 'Game_Status', 'Game_ID'\n",
    "]\n",
    "\n",
    "# Filter out columns that are actually present in the DataFrame\n",
    "columns_to_encode = [col for col in nominal_columns if col in data_df.columns]\n",
    "\n",
    "label_encoder = LabelEncoder()\n",
    "\n",
    "# Encode columns in place without adding \"_Encoded\" suffix\n",
    "for column in columns_to_encode:\n",
    "    data_df[column] = label_encoder.fit_transform(data_df[column])\n",
    "\n",
    "# Print the columns to confirm the encoding\n",
    "print(data_df.columns)\n",
    "\n",
    "# Save the DataFrame to CSV\n",
    "data_df.to_csv(\"Clean_Chess_Data.csv\", index=False)\n"
   ]
  },
  {
   "cell_type": "code",
   "execution_count": null,
   "metadata": {},
   "outputs": [],
   "source": [
    "\n"
   ]
  },
  {
   "cell_type": "code",
   "execution_count": 33,
   "metadata": {},
   "outputs": [
    {
     "data": {
      "text/plain": [
       "Index(['Game_ID', 'Rated_(T/F)', 'Start_Time', 'End_Time', 'Number_of_Turns',\n",
       "       'Game_Status', 'Winner', 'Time_Increment', 'White_Player-ID',\n",
       "       'White_Player_Rating', 'Black_Player_ID', 'Black_Player_Rating',\n",
       "       'All_Moves_in_Standard_Chess_Notation', 'Opening_Eco', 'Opening_Name',\n",
       "       'Opening_Ply', 'Game_Duration'],\n",
       "      dtype='object')"
      ]
     },
     "execution_count": 33,
     "metadata": {},
     "output_type": "execute_result"
    }
   ],
   "source": [
    "data_df.columns"
   ]
  }
 ],
 "metadata": {
  "kernelspec": {
   "display_name": "Python 3",
   "language": "python",
   "name": "python3"
  },
  "language_info": {
   "codemirror_mode": {
    "name": "ipython",
    "version": 3
   },
   "file_extension": ".py",
   "mimetype": "text/x-python",
   "name": "python",
   "nbconvert_exporter": "python",
   "pygments_lexer": "ipython3",
   "version": "3.13.0"
  }
 },
 "nbformat": 4,
 "nbformat_minor": 2
}
