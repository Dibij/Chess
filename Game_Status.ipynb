{
 "cells": [
  {
   "cell_type": "code",
   "execution_count": 1,
   "metadata": {},
   "outputs": [
    {
     "name": "stdout",
     "output_type": "stream",
     "text": [
      "Model: Logistic Regression\n",
      "              precision    recall  f1-score   support\n",
      "\n",
      "        draw       1.00      0.02      0.03        66\n",
      "        mate       0.47      0.18      0.26       526\n",
      "   outoftime       0.46      0.20      0.28       146\n",
      "      resign       0.63      0.93      0.75      1007\n",
      "\n",
      "    accuracy                           0.61      1745\n",
      "   macro avg       0.64      0.33      0.33      1745\n",
      "weighted avg       0.58      0.61      0.54      1745\n",
      "\n",
      "Model: Naive Bayes\n",
      "              precision    recall  f1-score   support\n",
      "\n",
      "        draw       0.28      0.15      0.20        66\n",
      "        mate       0.49      0.12      0.19       526\n",
      "   outoftime       0.38      0.31      0.34       146\n",
      "      resign       0.63      0.92      0.75      1007\n",
      "\n",
      "    accuracy                           0.60      1745\n",
      "   macro avg       0.45      0.37      0.37      1745\n",
      "weighted avg       0.56      0.60      0.52      1745\n",
      "\n",
      "Model: Decision Tree\n",
      "              precision    recall  f1-score   support\n",
      "\n",
      "        draw       0.10      0.12      0.11        66\n",
      "        mate       0.33      0.36      0.35       526\n",
      "   outoftime       0.28      0.25      0.27       146\n",
      "      resign       0.63      0.60      0.61      1007\n",
      "\n",
      "    accuracy                           0.48      1745\n",
      "   macro avg       0.33      0.33      0.33      1745\n",
      "weighted avg       0.49      0.48      0.48      1745\n",
      "\n",
      "Model: Random Forest\n",
      "              precision    recall  f1-score   support\n",
      "\n",
      "        draw       0.29      0.03      0.05        66\n",
      "        mate       0.42      0.28      0.34       526\n",
      "   outoftime       0.49      0.25      0.33       146\n",
      "      resign       0.64      0.83      0.72      1007\n",
      "\n",
      "    accuracy                           0.59      1745\n",
      "   macro avg       0.46      0.35      0.36      1745\n",
      "weighted avg       0.55      0.59      0.55      1745\n",
      "\n",
      "Model: SVM (Linear)\n",
      "              precision    recall  f1-score   support\n",
      "\n",
      "        draw       0.00      0.00      0.00        66\n",
      "        mate       0.00      0.00      0.00       526\n",
      "   outoftime       0.00      0.00      0.00       146\n",
      "      resign       0.58      1.00      0.73      1007\n",
      "\n",
      "    accuracy                           0.58      1745\n",
      "   macro avg       0.14      0.25      0.18      1745\n",
      "weighted avg       0.33      0.58      0.42      1745\n",
      "\n"
     ]
    },
    {
     "name": "stderr",
     "output_type": "stream",
     "text": [
      "c:\\Users\\Kshitish Pandit\\AppData\\Local\\Programs\\Python\\Python313\\Lib\\site-packages\\sklearn\\metrics\\_classification.py:1531: UndefinedMetricWarning: Precision is ill-defined and being set to 0.0 in labels with no predicted samples. Use `zero_division` parameter to control this behavior.\n",
      "  _warn_prf(average, modifier, f\"{metric.capitalize()} is\", len(result))\n",
      "c:\\Users\\Kshitish Pandit\\AppData\\Local\\Programs\\Python\\Python313\\Lib\\site-packages\\sklearn\\metrics\\_classification.py:1531: UndefinedMetricWarning: Precision is ill-defined and being set to 0.0 in labels with no predicted samples. Use `zero_division` parameter to control this behavior.\n",
      "  _warn_prf(average, modifier, f\"{metric.capitalize()} is\", len(result))\n",
      "c:\\Users\\Kshitish Pandit\\AppData\\Local\\Programs\\Python\\Python313\\Lib\\site-packages\\sklearn\\metrics\\_classification.py:1531: UndefinedMetricWarning: Precision is ill-defined and being set to 0.0 in labels with no predicted samples. Use `zero_division` parameter to control this behavior.\n",
      "  _warn_prf(average, modifier, f\"{metric.capitalize()} is\", len(result))\n"
     ]
    }
   ],
   "source": [
    "# game_status_model.py\n",
    "\n",
    "import pandas as pd\n",
    "from sklearn.tree import DecisionTreeClassifier\n",
    "from sklearn.model_selection import train_test_split, cross_val_score\n",
    "from sklearn.linear_model import LogisticRegression\n",
    "from sklearn.ensemble import RandomForestClassifier\n",
    "from sklearn.svm import SVC\n",
    "from sklearn.naive_bayes import GaussianNB\n",
    "from sklearn.metrics import classification_report\n",
    "from sklearn.decomposition import PCA\n",
    "from sklearn.preprocessing import StandardScaler\n",
    "from sklearn.multioutput import MultiOutputClassifier\n",
    "\n",
    "# Load the data\n",
    "data = pd.read_csv('Data1.csv')\n",
    "\n",
    "# Separate features and target\n",
    "X = data.drop(columns=['Rated_(T/F)', 'Winner', 'Game_Status'])  # Drop Game_Status as target, and others as they are not features\n",
    "y = data['Game_Status']\n",
    "\n",
    "# Preprocessing\n",
    "scaler = StandardScaler()\n",
    "X_scaled = scaler.fit_transform(X)\n",
    "\n",
    "# PCA for dimensionality reduction (optional, can be skipped if you don't need PCA)\n",
    "pca = PCA(n_components=5)  # Adjust based on your data\n",
    "X_pca = pca.fit_transform(X_scaled)\n",
    "\n",
    "# Split the data\n",
    "X_train, X_test, y_train, y_test = train_test_split(X_pca, y, test_size=0.2, random_state=42)\n",
    "\n",
    "# Define models\n",
    "models = {\n",
    "    \"Logistic Regression\": LogisticRegression(),\n",
    "    \"Naive Bayes\": GaussianNB(),\n",
    "    \"Decision Tree\": DecisionTreeClassifier(),\n",
    "    \"Random Forest\": RandomForestClassifier(),\n",
    "    \"SVM (Linear)\": SVC(kernel='linear', probability=True)\n",
    "}\n",
    "\n",
    "# Evaluate each model using the test data\n",
    "for model_name, model in models.items():\n",
    "    clf = model\n",
    "    clf.fit(X_train, y_train)\n",
    "    y_pred = clf.predict(X_test)\n",
    "    print(f\"Model: {model_name}\")\n",
    "    print(classification_report(y_test, y_pred))\n"
   ]
  },
  {
   "attachments": {
    "image.png": {
     "image/png": "[encoded data removed]"
    }
   },
   "cell_type": "markdown",
   "metadata": {},
   "source": [
    "### Before *Hyper-Tuning*\n",
    "![image.png](attachment:image.png)"
   ]
  },
  {
   "cell_type": "code",
   "execution_count": null,
   "metadata": {},
   "outputs": [],
   "source": []
  },
  {
   "cell_type": "code",
   "execution_count": null,
   "metadata": {},
   "outputs": [],
   "source": []
  }
 ],
 "metadata": {
  "kernelspec": {
   "display_name": "Python 3",
   "language": "python",
   "name": "python3"
  },
  "language_info": {
   "codemirror_mode": {
    "name": "ipython",
    "version": 3
   },
   "file_extension": ".py",
   "mimetype": "text/x-python",
   "name": "python",
   "nbconvert_exporter": "python",
   "pygments_lexer": "ipython3",
   "version": "3.13.0"
  }
 },
 "nbformat": 4,
 "nbformat_minor": 2
}
